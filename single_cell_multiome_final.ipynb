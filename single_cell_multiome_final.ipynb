{
  "nbformat": 4,
  "nbformat_minor": 0,
  "metadata": {
    "colab": {
      "provenance": []
    },
    "kernelspec": {
      "name": "python3",
      "display_name": "Python 3"
    },
    "language_info": {
      "name": "python"
    }
  },
  "cells": [
    {
      "cell_type": "markdown",
      "source": [
        "#**DOWNLOADING THE DATA**\n",
        "Here we are installing kaggle, creating a temp location for our kaggle.json api key to sit in, and then getting the download command from the kaggle competition site in order to retrieve the competition data."
      ],
      "metadata": {
        "id": "LPN-O2rASUih"
      }
    },
    {
      "cell_type": "code",
      "execution_count": null,
      "metadata": {
        "colab": {
          "base_uri": "https://localhost:8080/"
        },
        "id": "bamttLRaNAr1",
        "outputId": "1b8229c7-8748-4777-b2fa-9efb60040324"
      },
      "outputs": [
        {
          "output_type": "stream",
          "name": "stdout",
          "text": [
            "Looking in indexes: https://pypi.org/simple, https://us-python.pkg.dev/colab-wheels/public/simple/\n",
            "Requirement already satisfied: kaggle in /usr/local/lib/python3.8/dist-packages (1.5.12)\n",
            "Requirement already satisfied: python-slugify in /usr/local/lib/python3.8/dist-packages (from kaggle) (7.0.0)\n",
            "Requirement already satisfied: python-dateutil in /usr/local/lib/python3.8/dist-packages (from kaggle) (2.8.2)\n",
            "Requirement already satisfied: urllib3 in /usr/local/lib/python3.8/dist-packages (from kaggle) (1.24.3)\n",
            "Requirement already satisfied: requests in /usr/local/lib/python3.8/dist-packages (from kaggle) (2.23.0)\n",
            "Requirement already satisfied: tqdm in /usr/local/lib/python3.8/dist-packages (from kaggle) (4.64.1)\n",
            "Requirement already satisfied: certifi in /usr/local/lib/python3.8/dist-packages (from kaggle) (2022.9.24)\n",
            "Requirement already satisfied: six>=1.10 in /usr/local/lib/python3.8/dist-packages (from kaggle) (1.15.0)\n",
            "Requirement already satisfied: text-unidecode>=1.3 in /usr/local/lib/python3.8/dist-packages (from python-slugify->kaggle) (1.3)\n",
            "Requirement already satisfied: idna<3,>=2.5 in /usr/local/lib/python3.8/dist-packages (from requests->kaggle) (2.10)\n",
            "Requirement already satisfied: chardet<4,>=3.0.2 in /usr/local/lib/python3.8/dist-packages (from requests->kaggle) (3.0.4)\n"
          ]
        }
      ],
      "source": [
        "pip install kaggle"
      ]
    },
    {
      "cell_type": "code",
      "source": [
        "from google.colab import drive\n",
        "drive.mount('/content/drive')"
      ],
      "metadata": {
        "colab": {
          "base_uri": "https://localhost:8080/"
        },
        "id": "Ckg3UugxNZ7U",
        "outputId": "81bced60-d029-4a3f-dc8c-1344be43a9ba"
      },
      "execution_count": null,
      "outputs": [
        {
          "output_type": "stream",
          "name": "stdout",
          "text": [
            "Drive already mounted at /content/drive; to attempt to forcibly remount, call drive.mount(\"/content/drive\", force_remount=True).\n"
          ]
        }
      ]
    },
    {
      "cell_type": "code",
      "source": [
        "! mkdir ~/.kaggle"
      ],
      "metadata": {
        "id": "u2xHt50dQGN-"
      },
      "execution_count": null,
      "outputs": []
    },
    {
      "cell_type": "code",
      "source": [
        "! cp /content/drive/MyDrive/kaggle.json ~/.kaggle/kaggle.json"
      ],
      "metadata": {
        "id": "NyimSCMaQgxH"
      },
      "execution_count": null,
      "outputs": []
    },
    {
      "cell_type": "code",
      "source": [
        "! chmod 600 ~/.kaggle/kaggle.json"
      ],
      "metadata": {
        "id": "4z-kNYZmRmno"
      },
      "execution_count": null,
      "outputs": []
    },
    {
      "cell_type": "code",
      "source": [
        "! kaggle competitions download -c open-problems-multimodal"
      ],
      "metadata": {
        "colab": {
          "base_uri": "https://localhost:8080/"
        },
        "id": "zuR2K3L_R-T6",
        "outputId": "13023934-f012-48d3-fdba-1930d92a19bf"
      },
      "execution_count": null,
      "outputs": [
        {
          "output_type": "stream",
          "name": "stdout",
          "text": [
            "Downloading open-problems-multimodal.zip to /content\n",
            "100% 18.1G/18.1G [02:19<00:00, 164MB/s]\n",
            "100% 18.1G/18.1G [02:19<00:00, 139MB/s]\n"
          ]
        }
      ]
    },
    {
      "cell_type": "code",
      "source": [
        "! unzip open-problems-multimodal.zip"
      ],
      "metadata": {
        "colab": {
          "base_uri": "https://localhost:8080/"
        },
        "id": "hb7AKvHKVK4z",
        "outputId": "1608d90c-c3da-4159-c836-e6eba504860b"
      },
      "execution_count": null,
      "outputs": [
        {
          "output_type": "stream",
          "name": "stdout",
          "text": [
            "Archive:  open-problems-multimodal.zip\n",
            "  inflating: evaluation_ids.csv      \n",
            "  inflating: metadata.csv            \n",
            "  inflating: metadata_cite_day_2_donor_27678.csv  \n",
            "  inflating: sample_submission.csv   \n",
            "  inflating: test_cite_inputs.h5     \n",
            "  inflating: test_cite_inputs_day_2_donor_27678.h5  \n",
            "  inflating: test_multi_inputs.h5    \n",
            "  inflating: train_cite_inputs.h5    \n",
            "  inflating: train_cite_targets.h5   \n",
            "  inflating: train_multi_inputs.h5   \n",
            "  inflating: train_multi_targets.h5  \n"
          ]
        }
      ]
    },
    {
      "cell_type": "markdown",
      "source": [
        "#**LOAD TRAINING DATA**"
      ],
      "metadata": {
        "id": "StBLG_KkUcfM"
      }
    },
    {
      "cell_type": "code",
      "source": [
        "import os, gc, pickle\n",
        "import numpy as np\n",
        "import pandas as pd\n",
        "import scipy\n",
        "import scipy.sparse\n",
        "from sklearn.linear_model import Ridge, LinearRegression, Lasso\n",
        "from sklearn.decomposition import PCA"
      ],
      "metadata": {
        "id": "XtAy0y0SUusA"
      },
      "execution_count": 1,
      "outputs": []
    },
    {
      "cell_type": "code",
      "source": [
        "# init training paths\n",
        "train_multi_inputs = 'train_multi_inputs.h5'\n",
        "train_multi_targets = 'train_multi_targets.h5'"
      ],
      "metadata": {
        "id": "XN9m3WwCBoee"
      },
      "execution_count": 2,
      "outputs": []
    },
    {
      "cell_type": "code",
      "source": [
        "import matplotlib as plt\n",
        "from matplotlib.ticker import MaxNLocator\n",
        "from sklearn.base import BaseEstimator, TransformerMixin\n",
        "class trainTransformer(BaseEstimator, TransformerMixin):\n",
        "    # Set the range of columns to use\n",
        "    columns_to_use = slice(10000, 14000)\n",
        "\n",
        "    # Define the transform method\n",
        "    def transform(self, X):\n",
        "        # Select the columns to use\n",
        "        X = X[:, trainTransformer.columns_to_use]\n",
        "\n",
        "        # Apply the PCA transformation\n",
        "        X = self.pca.transform(X)\n",
        "\n",
        "        return X\n",
        "\n",
        "    # Define the fit_transform method\n",
        "    def fit_transform(self, X):\n",
        "        # Select the columns to use\n",
        "        X = X[:, trainTransformer.columns_to_use]\n",
        "\n",
        "        # Fit the PCA transformation and plot the explained variance\n",
        "        self.pca = PCA(n_components=4, copy=False, random_state=1)\n",
        "        X = self.pca.fit_transform(X)\n",
        "\n",
        "        # free up memory\n",
        "        gc.collect()\n",
        "\n",
        "        return X\n"
      ],
      "metadata": {
        "id": "3fGyC7xSP41v"
      },
      "execution_count": 3,
      "outputs": []
    },
    {
      "cell_type": "code",
      "source": [
        "# Use the transformer class to reconstruct the data with PCA reduction\n",
        "# This allows us to use the important details of the table without taking up as much space\n",
        "# load train multi inputs file into a pd.dataframe\n",
        "multi_train_x = pd.read_hdf(train_multi_inputs,start=0,stop=6000)\n",
        "transformer = trainTransformer()\n",
        "multi_train_x = transformer.fit_transform(multi_train_x.values)"
      ],
      "metadata": {
        "id": "fvvAFpiHCPyS"
      },
      "execution_count": 4,
      "outputs": []
    },
    {
      "cell_type": "code",
      "source": [
        "# stop the read at 6000 as it will take to much RAM to read the whole thing which will cause the program to crash\n",
        "multi_train_y = pd.read_hdf(train_multi_targets,start=0,stop=6000)\n",
        "y_cols = multi_train_y.columns\n",
        "multi_train_y = multi_train_y.values\n",
        "print(multi_train_y.shape)\n",
        "print(y_cols)"
      ],
      "metadata": {
        "colab": {
          "base_uri": "https://localhost:8080/"
        },
        "id": "u9p8xc6yDIOS",
        "outputId": "64e46578-c02f-47b2-ac70-3e6152238fda"
      },
      "execution_count": 5,
      "outputs": [
        {
          "output_type": "stream",
          "name": "stdout",
          "text": [
            "(6000, 23418)\n",
            "Index(['ENSG00000121410', 'ENSG00000268895', 'ENSG00000175899',\n",
            "       'ENSG00000245105', 'ENSG00000166535', 'ENSG00000256661',\n",
            "       'ENSG00000184389', 'ENSG00000128274', 'ENSG00000094914',\n",
            "       'ENSG00000081760',\n",
            "       ...\n",
            "       'ENSG00000086827', 'ENSG00000174442', 'ENSG00000122952',\n",
            "       'ENSG00000198205', 'ENSG00000198455', 'ENSG00000070476',\n",
            "       'ENSG00000203995', 'ENSG00000162378', 'ENSG00000159840',\n",
            "       'ENSG00000074755'],\n",
            "      dtype='object', name='gene_id', length=23418)\n"
          ]
        }
      ]
    },
    {
      "cell_type": "code",
      "source": [
        "print(multi_train_x)"
      ],
      "metadata": {
        "colab": {
          "base_uri": "https://localhost:8080/"
        },
        "id": "lmEEtV48ANyC",
        "outputId": "1418dbd3-5b9c-4682-88d0-d44052d913d9"
      },
      "execution_count": 6,
      "outputs": [
        {
          "output_type": "stream",
          "name": "stdout",
          "text": [
            "[[-5.2843988e-01  2.2742115e-03  2.9596677e+00  5.0110835e-01]\n",
            " [ 6.1474204e-01 -1.0237789e+00  4.5415360e-01 -8.8921183e-01]\n",
            " [ 1.7157254e-01 -1.1258169e+00  1.9299679e+00 -6.9009703e-01]\n",
            " ...\n",
            " [ 4.8910224e-01 -4.4246697e-01 -1.3574443e+00  2.0356762e+00]\n",
            " [-4.2812544e-01 -5.3548181e-01 -8.7892823e-03 -9.9996740e-01]\n",
            " [ 5.3994048e-01  1.4954154e+00 -9.9652505e-01  5.5327171e-01]]\n"
          ]
        }
      ]
    },
    {
      "cell_type": "markdown",
      "source": [
        "#Create Lasso Regression Model\n",
        "Fit training data into lasso model and then use gc.collect() to clear out any memory that is unnecessarily taking up space. We have to keep the amount of RAM we are using in mind the whole time during this project.\n",
        "\n",
        "Let's test out a dummyregression or ridge regression model in the future if the plan with the sparse matrix doesn't work out."
      ],
      "metadata": {
        "id": "shQenZhkC_7z"
      }
    },
    {
      "cell_type": "code",
      "source": [
        "# get rid of unnecessary items in memory, create lasso model and then delete the training data variables to help with RAM\n",
        "gc.collect()\n",
        "model = Lasso(copy_X=False)\n",
        "model.fit(multi_train_x, multi_train_y)\n",
        "del multi_train_x, multi_train_y\n",
        "_ = gc.collect()"
      ],
      "metadata": {
        "id": "iSM-jcxdE354",
        "colab": {
          "base_uri": "https://localhost:8080/"
        },
        "outputId": "07951c71-005a-4880-9882-7c04839417a2"
      },
      "execution_count": 7,
      "outputs": [
        {
          "output_type": "stream",
          "name": "stderr",
          "text": [
            "/usr/local/lib/python3.8/dist-packages/sklearn/linear_model/_coordinate_descent.py:647: ConvergenceWarning: Objective did not converge. You might want to increase the number of iterations, check the scale of the features or consider increasing regularisation. Duality gap: 0.000e+00, tolerance: 0.000e+00\n",
            "  model = cd_fast.enet_coordinate_descent(\n"
          ]
        }
      ]
    },
    {
      "cell_type": "code",
      "source": [
        "eval_ids = pd.read_csv(\"evaluation_ids.csv\", index_col = 'row_id')\n",
        "eval_ids.cell_id = eval_ids.cell_id.astype(pd.CategoricalDtype())\n",
        "eval_ids.gene_id = eval_ids.gene_id.astype(pd.CategoricalDtype())\n",
        "display(eval_ids)\n",
        "\n",
        "cell_id_set = set(eval_ids.cell_id)\n",
        "\n",
        "y_cols = pd.CategoricalIndex(y_cols, dtype = eval_ids.gene_id.dtype, name = 'gene_id')"
      ],
      "metadata": {
        "colab": {
          "base_uri": "https://localhost:8080/",
          "height": 455
        },
        "id": "DTOwk1n4Hg3Z",
        "outputId": "9bd3fc17-a654-4867-88c7-3942f2f4ad36"
      },
      "execution_count": 8,
      "outputs": [
        {
          "output_type": "display_data",
          "data": {
            "text/plain": [
              "               cell_id          gene_id\n",
              "row_id                                 \n",
              "0         c2150f55becb             CD86\n",
              "1         c2150f55becb            CD274\n",
              "2         c2150f55becb            CD270\n",
              "3         c2150f55becb            CD155\n",
              "4         c2150f55becb            CD112\n",
              "...                ...              ...\n",
              "65744175  2c53aa67933d  ENSG00000134419\n",
              "65744176  2c53aa67933d  ENSG00000186862\n",
              "65744177  2c53aa67933d  ENSG00000170959\n",
              "65744178  2c53aa67933d  ENSG00000107874\n",
              "65744179  2c53aa67933d  ENSG00000166012\n",
              "\n",
              "[65744180 rows x 2 columns]"
            ],
            "text/html": [
              "\n",
              "  <div id=\"df-cc07bf53-3e2e-4dff-80b4-06301f9bde78\">\n",
              "    <div class=\"colab-df-container\">\n",
              "      <div>\n",
              "<style scoped>\n",
              "    .dataframe tbody tr th:only-of-type {\n",
              "        vertical-align: middle;\n",
              "    }\n",
              "\n",
              "    .dataframe tbody tr th {\n",
              "        vertical-align: top;\n",
              "    }\n",
              "\n",
              "    .dataframe thead th {\n",
              "        text-align: right;\n",
              "    }\n",
              "</style>\n",
              "<table border=\"1\" class=\"dataframe\">\n",
              "  <thead>\n",
              "    <tr style=\"text-align: right;\">\n",
              "      <th></th>\n",
              "      <th>cell_id</th>\n",
              "      <th>gene_id</th>\n",
              "    </tr>\n",
              "    <tr>\n",
              "      <th>row_id</th>\n",
              "      <th></th>\n",
              "      <th></th>\n",
              "    </tr>\n",
              "  </thead>\n",
              "  <tbody>\n",
              "    <tr>\n",
              "      <th>0</th>\n",
              "      <td>c2150f55becb</td>\n",
              "      <td>CD86</td>\n",
              "    </tr>\n",
              "    <tr>\n",
              "      <th>1</th>\n",
              "      <td>c2150f55becb</td>\n",
              "      <td>CD274</td>\n",
              "    </tr>\n",
              "    <tr>\n",
              "      <th>2</th>\n",
              "      <td>c2150f55becb</td>\n",
              "      <td>CD270</td>\n",
              "    </tr>\n",
              "    <tr>\n",
              "      <th>3</th>\n",
              "      <td>c2150f55becb</td>\n",
              "      <td>CD155</td>\n",
              "    </tr>\n",
              "    <tr>\n",
              "      <th>4</th>\n",
              "      <td>c2150f55becb</td>\n",
              "      <td>CD112</td>\n",
              "    </tr>\n",
              "    <tr>\n",
              "      <th>...</th>\n",
              "      <td>...</td>\n",
              "      <td>...</td>\n",
              "    </tr>\n",
              "    <tr>\n",
              "      <th>65744175</th>\n",
              "      <td>2c53aa67933d</td>\n",
              "      <td>ENSG00000134419</td>\n",
              "    </tr>\n",
              "    <tr>\n",
              "      <th>65744176</th>\n",
              "      <td>2c53aa67933d</td>\n",
              "      <td>ENSG00000186862</td>\n",
              "    </tr>\n",
              "    <tr>\n",
              "      <th>65744177</th>\n",
              "      <td>2c53aa67933d</td>\n",
              "      <td>ENSG00000170959</td>\n",
              "    </tr>\n",
              "    <tr>\n",
              "      <th>65744178</th>\n",
              "      <td>2c53aa67933d</td>\n",
              "      <td>ENSG00000107874</td>\n",
              "    </tr>\n",
              "    <tr>\n",
              "      <th>65744179</th>\n",
              "      <td>2c53aa67933d</td>\n",
              "      <td>ENSG00000166012</td>\n",
              "    </tr>\n",
              "  </tbody>\n",
              "</table>\n",
              "<p>65744180 rows × 2 columns</p>\n",
              "</div>\n",
              "      <button class=\"colab-df-convert\" onclick=\"convertToInteractive('df-cc07bf53-3e2e-4dff-80b4-06301f9bde78')\"\n",
              "              title=\"Convert this dataframe to an interactive table.\"\n",
              "              style=\"display:none;\">\n",
              "        \n",
              "  <svg xmlns=\"http://www.w3.org/2000/svg\" height=\"24px\"viewBox=\"0 0 24 24\"\n",
              "       width=\"24px\">\n",
              "    <path d=\"M0 0h24v24H0V0z\" fill=\"none\"/>\n",
              "    <path d=\"M18.56 5.44l.94 2.06.94-2.06 2.06-.94-2.06-.94-.94-2.06-.94 2.06-2.06.94zm-11 1L8.5 8.5l.94-2.06 2.06-.94-2.06-.94L8.5 2.5l-.94 2.06-2.06.94zm10 10l.94 2.06.94-2.06 2.06-.94-2.06-.94-.94-2.06-.94 2.06-2.06.94z\"/><path d=\"M17.41 7.96l-1.37-1.37c-.4-.4-.92-.59-1.43-.59-.52 0-1.04.2-1.43.59L10.3 9.45l-7.72 7.72c-.78.78-.78 2.05 0 2.83L4 21.41c.39.39.9.59 1.41.59.51 0 1.02-.2 1.41-.59l7.78-7.78 2.81-2.81c.8-.78.8-2.07 0-2.86zM5.41 20L4 18.59l7.72-7.72 1.47 1.35L5.41 20z\"/>\n",
              "  </svg>\n",
              "      </button>\n",
              "      \n",
              "  <style>\n",
              "    .colab-df-container {\n",
              "      display:flex;\n",
              "      flex-wrap:wrap;\n",
              "      gap: 12px;\n",
              "    }\n",
              "\n",
              "    .colab-df-convert {\n",
              "      background-color: #E8F0FE;\n",
              "      border: none;\n",
              "      border-radius: 50%;\n",
              "      cursor: pointer;\n",
              "      display: none;\n",
              "      fill: #1967D2;\n",
              "      height: 32px;\n",
              "      padding: 0 0 0 0;\n",
              "      width: 32px;\n",
              "    }\n",
              "\n",
              "    .colab-df-convert:hover {\n",
              "      background-color: #E2EBFA;\n",
              "      box-shadow: 0px 1px 2px rgba(60, 64, 67, 0.3), 0px 1px 3px 1px rgba(60, 64, 67, 0.15);\n",
              "      fill: #174EA6;\n",
              "    }\n",
              "\n",
              "    [theme=dark] .colab-df-convert {\n",
              "      background-color: #3B4455;\n",
              "      fill: #D2E3FC;\n",
              "    }\n",
              "\n",
              "    [theme=dark] .colab-df-convert:hover {\n",
              "      background-color: #434B5C;\n",
              "      box-shadow: 0px 1px 3px 1px rgba(0, 0, 0, 0.15);\n",
              "      filter: drop-shadow(0px 1px 2px rgba(0, 0, 0, 0.3));\n",
              "      fill: #FFFFFF;\n",
              "    }\n",
              "  </style>\n",
              "\n",
              "      <script>\n",
              "        const buttonEl =\n",
              "          document.querySelector('#df-cc07bf53-3e2e-4dff-80b4-06301f9bde78 button.colab-df-convert');\n",
              "        buttonEl.style.display =\n",
              "          google.colab.kernel.accessAllowed ? 'block' : 'none';\n",
              "\n",
              "        async function convertToInteractive(key) {\n",
              "          const element = document.querySelector('#df-cc07bf53-3e2e-4dff-80b4-06301f9bde78');\n",
              "          const dataTable =\n",
              "            await google.colab.kernel.invokeFunction('convertToInteractive',\n",
              "                                                     [key], {});\n",
              "          if (!dataTable) return;\n",
              "\n",
              "          const docLinkHtml = 'Like what you see? Visit the ' +\n",
              "            '<a target=\"_blank\" href=https://colab.research.google.com/notebooks/data_table.ipynb>data table notebook</a>'\n",
              "            + ' to learn more about interactive tables.';\n",
              "          element.innerHTML = '';\n",
              "          dataTable['output_type'] = 'display_data';\n",
              "          await google.colab.output.renderOutput(dataTable, element);\n",
              "          const docLink = document.createElement('div');\n",
              "          docLink.innerHTML = docLinkHtml;\n",
              "          element.appendChild(docLink);\n",
              "        }\n",
              "      </script>\n",
              "    </div>\n",
              "  </div>\n",
              "  "
            ]
          },
          "metadata": {}
        }
      ]
    },
    {
      "cell_type": "markdown",
      "source": [
        "#***BEGIN CREATING SUBMISSION***\n",
        "This submission file is only half complete as it needs to be paired with the data from the CITEseq. For the moment, the multiome data is all that is in this submission."
      ],
      "metadata": {
        "id": "D87ePFQQmQB2"
      }
    },
    {
      "cell_type": "code",
      "source": [
        "submission = pd.Series(name = 'target', index = pd.MultiIndex.from_frame(eval_ids), dtype = np.float32)\n",
        "print(submission)"
      ],
      "metadata": {
        "colab": {
          "base_uri": "https://localhost:8080/"
        },
        "id": "u7ofz9W_mOsE",
        "outputId": "6a4da597-bfa9-4b53-a576-1e12fa0e3b22"
      },
      "execution_count": 9,
      "outputs": [
        {
          "output_type": "stream",
          "name": "stdout",
          "text": [
            "cell_id       gene_id        \n",
            "c2150f55becb  CD86              NaN\n",
            "              CD274             NaN\n",
            "              CD270             NaN\n",
            "              CD155             NaN\n",
            "              CD112             NaN\n",
            "                                 ..\n",
            "2c53aa67933d  ENSG00000134419   NaN\n",
            "              ENSG00000186862   NaN\n",
            "              ENSG00000170959   NaN\n",
            "              ENSG00000107874   NaN\n",
            "              ENSG00000166012   NaN\n",
            "Name: target, Length: 65744180, dtype: float32\n"
          ]
        }
      ]
    },
    {
      "cell_type": "markdown",
      "source": [
        "#***COMPUTE PREDICTIONS***"
      ],
      "metadata": {
        "id": "qTcvKT-VBXlJ"
      }
    },
    {
      "cell_type": "code",
      "source": [
        "# potentially use this instead\n",
        "import pandas as pd\n",
        "\n",
        "def test_data_generator(chunksize):\n",
        "    start = 0\n",
        "    while True:\n",
        "        # Read the next chunk of data and select the needed rows\n",
        "        multi_test_x = pd.read_hdf('test_multi_inputs.h5', start=start, stop=start+chunksize)\n",
        "        needed_row_mask = multi_test_x.index.isin(cell_id_set)\n",
        "        multi_test_x = multi_test_x.loc[needed_row_mask]\n",
        "\n",
        "        # Keep the index for later\n",
        "        multi_test_index = multi_test_x.index\n",
        "\n",
        "        # Transform the data and yield the predictions\n",
        "        multi_test_x = multi_test_x.values\n",
        "        multi_test_x = transformer.transform(multi_test_x)\n",
        "        test_pred = model.predict(multi_test_x)\n",
        "\n",
        "        # Print the index and predictions for troubleshooting\n",
        "        print(\"multi_test_index:\", multi_test_index)\n",
        "        print(\"test_pred:\", test_pred)\n",
        "\n",
        "        yield (multi_test_index, test_pred)\n",
        "\n",
        "        # Check if there are more chunks to process\n",
        "        if len(multi_test_x) < chunksize: break\n",
        "        start += chunksize\n",
        "\n",
        "# Process the test data in chunks using a generator function\n",
        "total_rows = 0\n",
        "for multi_test_index, test_pred in test_data_generator(chunksize=5000):\n",
        "    # Convert the predictions to a dataframe\n",
        "    multi_test_x = pd.DataFrame(test_pred, index=pd.CategoricalIndex(multi_test_index, dtype=eval_ids.cell_id.dtype, name='cell_id'), columns=y_cols)\n",
        "\n",
        "    # Fill the predictions into the submission series row by row\n",
        "    for i, (index, row) in enumerate(multi_test_x.iterrows()):\n",
        "        row = row.reindex(eval_ids.gene_id[eval_ids.cell_id == index])\n",
        "        submission.loc[index] = row.values\n",
        "      \n",
        "    print(\"na: \",submission.isna().sum())\n",
        "    print('Length of submission series:', len(submission))\n",
        "    total_rows += len(multi_test_x)\n",
        "    print(total_rows)\n",
        "\n",
        "# Delete some variables to free up memory\n",
        "del multi_test_x, multi_test_index\n",
        "\n"
      ],
      "metadata": {
        "colab": {
          "base_uri": "https://localhost:8080/"
        },
        "id": "62o_vtr1Moi2",
        "outputId": "95e7d87a-7097-4c2d-9fd8-9791652e6d7a"
      },
      "execution_count": 10,
      "outputs": [
        {
          "output_type": "stream",
          "name": "stdout",
          "text": [
            "multi_test_index: Index(['632ae0df4dcd', '6e3df813cfcf', 'f761aff20d94', '4ad5ef1d14ed',\n",
            "       '81bdc45c1480', 'e8652be37372', 'f16910c43d66', '5ca7a64be856',\n",
            "       '725c7b3b6045', 'f6a90f4dcf1c',\n",
            "       ...\n",
            "       'ded9a2888c08', '698c3475dd57', 'edb9d9e1e9ea', 'ce544b085151',\n",
            "       'd7ca46354f40', 'ce8eb202adfd', 'afcb77dfee2f', '0344dd004d4d',\n",
            "       'b72fd76caa96', 'fc0b4f00c001'],\n",
            "      dtype='object', name='cell_id', length=1533)\n",
            "test_pred: [[0.7462242  0.27992386 0.16733848 ... 0.945643   1.3317629  1.726759  ]\n",
            " [0.7462242  0.27992386 0.16733848 ... 0.945643   1.3317629  1.726759  ]\n",
            " [0.7462242  0.27992386 0.16733848 ... 0.945643   1.3317629  1.726759  ]\n",
            " ...\n",
            " [0.7462242  0.27992386 0.16733848 ... 0.945643   1.3317629  1.726759  ]\n",
            " [0.7462242  0.27992386 0.16733848 ... 0.945643   1.3317629  1.726759  ]\n",
            " [0.7462242  0.27992386 0.16733848 ... 0.945643   1.3317629  1.726759  ]]\n",
            "na:  60360284\n",
            "Length of submission series: 65744180\n",
            "1533\n"
          ]
        }
      ]
    },
    {
      "cell_type": "code",
      "source": [
        "submission.reset_index(drop=True, inplace=True)\n",
        "submission.index.name = 'row_id'"
      ],
      "metadata": {
        "id": "dewRexVL7_4t"
      },
      "execution_count": 15,
      "outputs": []
    },
    {
      "cell_type": "markdown",
      "source": [
        "#Turn the file into a pickle file\n",
        "It makes it easier to transport into the CITEseq project"
      ],
      "metadata": {
        "id": "fDXVIwUHyoJ4"
      }
    },
    {
      "cell_type": "code",
      "source": [
        "with open(\"partial_submission_multi.pickle\", 'wb') as f: pickle.dump(submission, f)"
      ],
      "metadata": {
        "id": "BzkwyCzKx3J-"
      },
      "execution_count": 13,
      "outputs": []
    }
  ]
}